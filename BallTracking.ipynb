{
 "cells": [
  {
   "cell_type": "markdown",
   "metadata": {},
   "source": [
    "# Ball Tracking using Matrix Methods"
   ]
  },
  {
   "cell_type": "markdown",
   "metadata": {},
   "source": [
    "Below is an example of our ball tracking algorithm, including error analysis."
   ]
  },
  {
   "cell_type": "markdown",
   "metadata": {},
   "source": [
    "Import statements, uses math, numpy, and matplotlib packages and our built algorithm file."
   ]
  },
  {
   "cell_type": "code",
   "execution_count": 1,
   "metadata": {},
   "outputs": [
    {
     "name": "stdout",
     "output_type": "stream",
     "text": [
      "The history saving thread hit an unexpected error (DatabaseError('database disk image is malformed')).History will not be written to the database.\n"
     ]
    }
   ],
   "source": [
    "import math \n",
    "import numpy as np \n",
    "import matplotlib.pyplot as plt\n",
    "from algorithm import Algorithm"
   ]
  },
  {
   "cell_type": "markdown",
   "metadata": {},
   "source": [
    "# Initial Conditions"
   ]
  },
  {
   "cell_type": "markdown",
   "metadata": {},
   "source": [
    "The initial conditions can be freely set by the user."
   ]
  },
  {
   "cell_type": "code",
   "execution_count": 2,
   "metadata": {},
   "outputs": [],
   "source": [
    "ax = 0.0\n",
    "ay = -9.8\n",
    "vx0 = 4.75\n",
    "vy0 = 80.25\n",
    "x0 = 0.0\n",
    "y0 = 0.0"
   ]
  },
  {
   "cell_type": "markdown",
   "metadata": {},
   "source": [
    "# Creation of Simulation Data of a Ball's Projectile Motion"
   ]
  },
  {
   "cell_type": "markdown",
   "metadata": {},
   "source": [
    "The Cord function returns the coordinates of the point in either the x or y direction, given that directions velocity, acceleration, and the time shared between directions."
   ]
  },
  {
   "cell_type": "code",
   "execution_count": 3,
   "metadata": {},
   "outputs": [],
   "source": [
    "def Cord(v,a,t):\n",
    "    return v*t+0.5*a*t**2"
   ]
  },
  {
   "cell_type": "markdown",
   "metadata": {},
   "source": [
    "An initial overestimate of the time it takes the ball to hit the ground is generated off the data, and then the cordinates are generated for x and y.  Using y, we cut tmax down to the actual time the ball hits the ground and round it up to the nearest integer."
   ]
  },
  {
   "cell_type": "code",
   "execution_count": 4,
   "metadata": {},
   "outputs": [],
   "source": [
    "tmax = vy0**2 + vx0**2\n",
    "t = np.arange(tmax)\n",
    "x = Cord(vx0,ax,t)\n",
    "y = Cord(vy0,ay,t)\n",
    "\n",
    "tmax = math.ceil(2*math.sqrt(2*np.max(y)/abs(ay)))\n",
    "\n",
    "t = np.arange(tmax)\n",
    "x = Cord(vx0,ax,t)\n",
    "y = Cord(vy0,ay,t)"
   ]
  },
  {
   "cell_type": "markdown",
   "metadata": {},
   "source": [
    "# Plot of Simulation Data"
   ]
  },
  {
   "cell_type": "markdown",
   "metadata": {},
   "source": [
    "Below is a plot of x and y, showing the balls trajectory over space."
   ]
  },
  {
   "cell_type": "code",
   "execution_count": 5,
   "metadata": {},
   "outputs": [
    {
     "data": {
      "text/plain": [
       "Text(0, 0.5, 'y')"
      ]
     },
     "execution_count": 5,
     "metadata": {},
     "output_type": "execute_result"
    },
    {
     "data": {
      "image/png": "[encoded data removed]",
      "text/plain": [
       "<Figure size 432x288 with 1 Axes>"
      ]
     },
     "metadata": {
      "needs_background": "light"
     },
     "output_type": "display_data"
    }
   ],
   "source": [
    "plt.plot(x,y, '*')\n",
    "plt.xlabel('x')\n",
    "plt.ylabel('y')"
   ]
  },
  {
   "cell_type": "markdown",
   "metadata": {},
   "source": [
    "# Creation of Matrix of Ball SImulation Data to feed into Algorithm"
   ]
  },
  {
   "cell_type": "markdown",
   "metadata": {},
   "source": [
    "Created a Matrix of the simiulation Ball Position.  This matrix is the only piece of information carried over from the original simulation.  The matrix must be square, thus we used the larger space dimention to make each frame square.  The matrix is 3D, the first 2 dimentions are x and y and the third, which need not be square, is time."
   ]
  },
  {
   "cell_type": "code",
   "execution_count": 6,
   "metadata": {},
   "outputs": [],
   "source": [
    "if (np.max(x) > np.max(y)):\n",
    "    maxDim = math.ceil(np.max(x))+1\n",
    "else:\n",
    "    maxDim = math.ceil(np.max(y))+1\n",
    "MATRIX = np.zeros((maxDim,maxDim,math.ceil(tmax)))"
   ]
  },
  {
   "cell_type": "markdown",
   "metadata": {},
   "source": [
    "For every time frame, place a 1 in the matrix where the ball is located, and a zero elsewhere."
   ]
  },
  {
   "cell_type": "code",
   "execution_count": 7,
   "metadata": {},
   "outputs": [],
   "source": [
    "for i in range(tmax):\n",
    "    MATRIX[int(x[i]),int(y[i]),i] = 1"
   ]
  },
  {
   "cell_type": "markdown",
   "metadata": {},
   "source": [
    "# Below is the implementation of the algorithm.\n",
    "A 1 dimentional matrix, named z, the same size as a side of the square frames is created, and has values in it listed from 0 to the max number of rows/columns (There are the same number of rows as there are columns as the matrix frames are square).  By takeing the dot products, we have $row=z\\cdot M_i$ and $column=M_i\\cdot z$, where $M_i$ is the square matrix at time i.  This is all contained in algorithm.py, in the Algorithm function."
   ]
  },
  {
   "cell_type": "code",
   "execution_count": 8,
   "metadata": {},
   "outputs": [],
   "source": [
    "row,column = Algorithm(MATRIX)"
   ]
  },
  {
   "cell_type": "markdown",
   "metadata": {},
   "source": [
    "# Below is the plot of the results."
   ]
  },
  {
   "cell_type": "code",
   "execution_count": 9,
   "metadata": {},
   "outputs": [
    {
     "data": {
      "text/plain": [
       "<matplotlib.legend.Legend at 0x7f535da66950>"
      ]
     },
     "execution_count": 9,
     "metadata": {},
     "output_type": "execute_result"
    },
    {
     "data": {
      "image/png": "[encoded data removed]",
      "text/plain": [
       "<Figure size 432x288 with 1 Axes>"
      ]
     },
     "metadata": {
      "needs_background": "light"
     },
     "output_type": "display_data"
    }
   ],
   "source": [
    "plt.plot(x,y, 'o', label = \"Original Data\")\n",
    "plt.plot(row,column, '.', label = \"Tracking Data\")\n",
    "plt.xlabel('x')\n",
    "plt.ylabel('y')\n",
    "plt.legend()"
   ]
  },
  {
   "cell_type": "markdown",
   "metadata": {},
   "source": [
    "As can be seen, the original data and the tracking data are very similar indeed."
   ]
  },
  {
   "cell_type": "markdown",
   "metadata": {},
   "source": [
    "Now lets take a look at the average error:"
   ]
  },
  {
   "cell_type": "code",
   "execution_count": 10,
   "metadata": {},
   "outputs": [],
   "source": [
    "errorX = np.mean(abs(row-x))\n",
    "errorY = np.mean(abs(column-y))"
   ]
  },
  {
   "cell_type": "code",
   "execution_count": 11,
   "metadata": {},
   "outputs": [
    {
     "name": "stdout",
     "output_type": "stream",
     "text": [
      "The error in the row calculations is  0.35294117647058826\n",
      "The error in the column calculations is  0.44705882352938636\n"
     ]
    }
   ],
   "source": [
    "print(\"The error in the row calculations is \", errorX)\n",
    "print(\"The error in the column calculations is \", errorY)"
   ]
  },
  {
   "cell_type": "markdown",
   "metadata": {},
   "source": [
    "As can be seen, some error is evident in this system.  This is due to the fact that to make a continuous number line fit into a discrete matrix, we rounded the x and y coodinates down in order to have them fit in a matrix box.  Each matrix box is an integer value, so the decimal of the coordinates was erased.  This however gives us a well defined maximum average error of 0.5, half the size of a matrix box, across the board."
   ]
  },
  {
   "cell_type": "code",
   "execution_count": 12,
   "metadata": {},
   "outputs": [
    {
     "name": "stdout",
     "output_type": "stream",
     "text": [
      "Max error point in rows for this run: 0.75\n",
      "Max error point in columns for this run: 0.9000000000000057\n"
     ]
    }
   ],
   "source": [
    "print(\"Max error point in rows for this run:\", max(abs(row-x)))\n",
    "print(\"Max error point in columns for this run:\", max(abs(column-y)))"
   ]
  },
  {
   "cell_type": "markdown",
   "metadata": {},
   "source": [
    "However, the maximum error possible for a single box is .99999 repeating, as we rounded down to the nearest integer in constructing the matrix."
   ]
  },
  {
   "cell_type": "code",
   "execution_count": null,
   "metadata": {},
   "outputs": [],
   "source": []
  }
 ],
 "metadata": {
  "kernelspec": {
   "display_name": "Python 3",
   "language": "python",
   "name": "python3"
  },
  "language_info": {
   "codemirror_mode": {
    "name": "ipython",
    "version": 3
   },
   "file_extension": ".py",
   "mimetype": "text/x-python",
   "name": "python",
   "nbconvert_exporter": "python",
   "pygments_lexer": "ipython3",
   "version": "3.7.5"
  }
 },
 "nbformat": 4,
 "nbformat_minor": 4
}
